{
 "cells": [
  {
   "cell_type": "markdown",
   "id": "7104e6cf",
   "metadata": {},
   "source": [
    "### Types of Neural Networks:\n",
    "\n",
    "1. **Multi-Layer Perceptron (MLP):**  \n",
    "The simplest form of neural network organized in layers. It is fully connected where every neuron in one layer connects to every neuron in the next. Mainly used in supervised learning for classification and regression tasks.\n",
    "\n",
    "2. **Convolutional Neural Networks (CNN):**  \n",
    "Uses convolutional layers that apply filters to input data (such as images) to capture spatial hierarchies and patterns. Widely used in image and video processing, object detection, and computer vision tasks.\n",
    "\n",
    "3. **Recurrent Neural Networks (RNN):**  \n",
    "Designed to process sequential data by maintaining a form of memory using feedback loops in hidden layers. Commonly used in natural language processing (NLP), speech recognition, and time series prediction.\n",
    "\n",
    "4. **Long Short-Term Memory Networks (LSTM):**  \n",
    "A special kind of RNN that solves the vanishing gradient problem by using gated cells to retain information over long sequences. Effective for tasks requiring learning of long-term dependencies, such as language translation and speech.\n",
    "\n",
    "5. **Autoencoders:**  \n",
    "Neural networks designed to compress input data into a lower-dimensional form (encoding) and then reconstruct it back (decoding). Typically have more nodes in input/output layers than in hidden layers. Used for data compression, noise reduction, and feature learning.\n",
    "\n",
    "6. **Generative Adversarial Networks (GANs):**  \n",
    "Consist of two networks—a generator that creates fake data and a discriminator that tries to distinguish real from fake data. They work together to generate highly realistic new data such as images, videos, or text.\n"
   ]
  }
 ],
 "metadata": {
  "language_info": {
   "name": "python"
  }
 },
 "nbformat": 4,
 "nbformat_minor": 5
}

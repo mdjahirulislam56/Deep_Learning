{
 "cells": [
  {
   "cell_type": "markdown",
   "id": "3807c643",
   "metadata": {},
   "source": [
    "## Loss Function as a Function of Parameters\n",
    "- Loss depends on all model parameters (weights and biases).  \n",
    "- Example: A neural network with 9 parameters → loss is a function of all 9.  \n",
    "- Goal: Adjust weights and biases so that loss is minimized.  \n",
    "- Intuition: Neural network behaves like a box where parameters are tuned to reduce loss.  \n",
    "\n",
    "## Gradient Concept\n",
    "- Gradient = derivative, a measure of rate of change.  \n",
    "- For single-variable functions: derivative w.r.t. one variable.  \n",
    "- For multi-variable functions: partial derivatives w.r.t. each variable.  \n",
    "- Gradient tells how much change in parameters affects loss.  \n",
    "\n",
    "## Minimization of Loss\n",
    "- To minimize a function:  \n",
    "  - Take derivative (or partial derivatives).  \n",
    "  - Set equal to zero.  \n",
    "  - Solve for parameter values.  \n",
    "- Example: Quadratic function → minimum at the vertex.  \n",
    "- For multi-variable loss functions, calculate gradients for all parameters.  \n",
    "\n",
    "## Backpropagation and Intuition\n",
    "- Backpropagation uses gradients to update parameters.   \n",
    "\n",
    "## Derivative as Rate of Change\n",
    "- Derivative shows how much the output (loss) changes when input (parameter) changes slightly.  \n",
    "- Positive gradient → increasing function.  \n",
    "- Negative gradient → decreasing function.  \n",
    "- Helps identify direction to update weights for minimizing loss.  \n",
    "\n",
    "## Concept of Minimum\n",
    "- In graphs, minimum can be visually identified.  \n",
    "- Without visualization, use derivatives to mathematically find minima.  \n",
    "- Extends to higher dimensions for neural networks.  \n",
    "\n",
    "\n",
    "https://developers-dot-devsite-v2-prod.appspot.com/machine-learning/crash-course/backprop-scroll\n"
   ]
  }
 ],
 "metadata": {
  "language_info": {
   "name": "python"
  }
 },
 "nbformat": 4,
 "nbformat_minor": 5
}
